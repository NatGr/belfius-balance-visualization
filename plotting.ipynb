{
 "cells": [
  {
   "cell_type": "markdown",
   "metadata": {},
   "source": [
    "# Juyter notebook Plotting extracts from a belfius bank account\n",
    "\n",
    "## Data preparation:\n",
    "Follow the procedure detailled [here](https://www.belfius.be/webapps/fr/selfcare/belfius/comptes/solde-historique/Comment-exporter-mon-historique-vers-un-fichier-CSV-(Excel)-en-Belfius-Direct-Net-) to download the extracts as csv files and put them in a folder named \"Data\".  \n",
    "\n",
    "## Dependencies\n",
    "- jupyter notebook\n",
    "- pandas\n",
    "- matplotlib"
   ]
  },
  {
   "cell_type": "markdown",
   "metadata": {},
   "source": [
    "## Data Loading and cleaning"
   ]
  },
  {
   "cell_type": "code",
   "execution_count": null,
   "metadata": {},
   "outputs": [],
   "source": [
    "import pandas as pd\n",
    "import os\n",
    "from datetime import datetime\n",
    "\n",
    "import matplotlib as mpl\n",
    "from cycler import cycler\n",
    "import matplotlib.pyplot as plt\n",
    "plt.style.use('dark_background')\n",
    "mpl.rcParams['axes.prop_cycle'] = cycler('color', ['#' + col for col in ['001C7F', '017517', '8C0900', '7600A1', 'B8860B', '006374']])"
   ]
  },
  {
   "cell_type": "code",
   "execution_count": null,
   "metadata": {},
   "outputs": [],
   "source": [
    "DATA = \"Data\"\n",
    "ENCODING = 'cp1252'"
   ]
  },
  {
   "cell_type": "code",
   "execution_count": null,
   "metadata": {},
   "outputs": [],
   "source": [
    "data = []\n",
    "for file in os.listdir(DATA):\n",
    "    if not file.endswith(\"csv\"):\n",
    "        continue\n",
    "    with open(os.path.join(DATA, file), \"r\", encoding=ENCODING) as reader:\n",
    "        for i in range(12):  # passing ill-formatted garbage info with balance and balance_date\n",
    "            line = reader.readline()\n",
    "            \n",
    "            # if the balance and balance_date isn't the same in all files, will use the last one silently\n",
    "            if i == 9:  \n",
    "                balance = float(line.split(\";\")[1].split(\" \")[0].replace(\".\", \"\").replace(\",\", \".\"))\n",
    "            if i == 10:\n",
    "                balance_date = datetime.strptime(line.split(\";\")[1][:-1], \"%d/%m/%Y %H:%M:%S\")\n",
    "                \n",
    "        data.append(pd.read_csv(reader, sep=\";\", thousands='.', decimal=','))\n",
    "\n",
    "data = pd.concat(data, axis=0)"
   ]
  },
  {
   "cell_type": "code",
   "execution_count": null,
   "metadata": {},
   "outputs": [],
   "source": [
    "# Cases that shouldn't happen\n",
    "if data.Devise.nunique() != 1:\n",
    "    print(\"There are several types of Currencies for different transactions, this will fuck up the accounting\")\n",
    "    \n",
    "if data.Compte.nunique() != 1:\n",
    "    print(\"There are several comptes in the transactions, this will fuck up the accounting\")"
   ]
  },
  {
   "cell_type": "code",
   "execution_count": null,
   "metadata": {},
   "outputs": [],
   "source": [
    "col_rename_dict = {\n",
    "    'Compte': \"account\", \n",
    "    'Date de comptabilisation': \"date\", \n",
    "    \"Numéro d'extrait\": \"extract_num\",\n",
    "    'Numéro de transaction': \"transac_number\", \n",
    "    'Compte contrepartie': \"other_account\",\n",
    "    'Nom contrepartie contient': \"other_name\", \n",
    "    'Rue et numéro': \"other_street\", \n",
    "    'Code postal et localité': \"other_locality\",\n",
    "    'Transaction': \"other_transaction\", \n",
    "    'Date valeur': \"value_date\", \n",
    "    'Montant': \"amount\", \n",
    "    'Devise': \"currency\",  \n",
    "    'Code pays': \"country\",\n",
    "    'Communications': \"communication\"\n",
    "}\n",
    "\n",
    "data = data.drop_duplicates()\\\n",
    "    .rename(columns=col_rename_dict)\\\n",
    "    .assign(date=lambda x: pd.to_datetime(x.date, format=\"%d/%m/%Y\"),\n",
    "            value_date=lambda x: pd.to_datetime(x.value_date, format=\"%d/%m/%Y\"))\\\n",
    "    .sort_values(by=\"date\", ascending=False)\\\n",
    "    .assign(balance=lambda x: balance - x.amount.shift(1, fill_value=0).cumsum())  # the solde after a transaction"
   ]
  },
  {
   "cell_type": "markdown",
   "metadata": {
    "execution": {
     "iopub.execute_input": "2020-04-19T18:15:33.480078Z",
     "iopub.status.busy": "2020-04-19T18:15:33.479745Z",
     "iopub.status.idle": "2020-04-19T18:15:33.486328Z",
     "shell.execute_reply": "2020-04-19T18:15:33.484368Z",
     "shell.execute_reply.started": "2020-04-19T18:15:33.480043Z"
    }
   },
   "source": [
    "## Historic of the amount of money in the account"
   ]
  },
  {
   "cell_type": "code",
   "execution_count": null,
   "metadata": {},
   "outputs": [],
   "source": [
    "xticks = [datetime(year, 1, 1) for year in range(data.date.min().year, data.date.max().year + 2)]\n",
    "fig, ax = plt.subplots(1, figsize=(14, 8))\n",
    "ax.set_xticks(xticks)\n",
    "ax.set_title(\"Account balance as times passes\")\n",
    "ax.set_xlabel(\"Date\")\n",
    "ax.set_ylabel(\"Account Balance (€)\")\n",
    "ax.grid(linestyle=\"--\", linewidth=.5)\n",
    "\n",
    "plt.plot(data.date, data.balance, linewidth=3);"
   ]
  },
  {
   "cell_type": "markdown",
   "metadata": {},
   "source": [
    "## Diverse Account statistics"
   ]
  },
  {
   "cell_type": "code",
   "execution_count": null,
   "metadata": {},
   "outputs": [],
   "source": [
    "# transactions where there are no associated account but whose meaning we can mine from other_transaction\n",
    "index_no_other_name = data.other_name.isna()\n",
    "\n",
    "index_payment_card = index_no_other_name & data.other_transaction.str.contains(\"PAIEMENT MAESTRO\")\n",
    "data.loc[index_payment_card, \"other_name\"] = \"card payment\"\n",
    "\n",
    "index_cash_deposit = index_no_other_name & data.other_transaction.str.contains(\"DEPOT ESPECES AVEC CARTE\")\n",
    "data.loc[index_cash_deposit, \"other_name\"] = \"cash deposit\"\n",
    "\n",
    "index_postal_fees = index_no_other_name & (data.other_transaction.str.contains(\"FRAIS D'EXPEDITION DE VOS AVIS BANCAIRES\") |\n",
    "                                           data.other_transaction.str.contains(\"DROIT DE TIMBRE\"))\n",
    "data.loc[index_postal_fees, \"other_name\"] = \"postal fees\""
   ]
  },
  {
   "cell_type": "code",
   "execution_count": null,
   "metadata": {},
   "outputs": [],
   "source": [
    "per_other_stats = data.groupby(\"other_name\").amount.agg([\"count\", \"sum\"])"
   ]
  },
  {
   "cell_type": "markdown",
   "metadata": {},
   "source": [
    "### The 15 entities we gave most money to"
   ]
  },
  {
   "cell_type": "code",
   "execution_count": null,
   "metadata": {},
   "outputs": [],
   "source": [
    "per_other_stats.sort_values(\"sum\").head(15)"
   ]
  },
  {
   "cell_type": "markdown",
   "metadata": {},
   "source": [
    "### The 15 entities that gave us most money"
   ]
  },
  {
   "cell_type": "code",
   "execution_count": null,
   "metadata": {},
   "outputs": [],
   "source": [
    "per_other_stats.sort_values(\"sum\", ascending=False).head(15)"
   ]
  },
  {
   "cell_type": "markdown",
   "metadata": {},
   "source": [
    "### The 15 entities we had the most interactions with"
   ]
  },
  {
   "cell_type": "code",
   "execution_count": null,
   "metadata": {},
   "outputs": [],
   "source": [
    "per_other_stats.sort_values(\"count\", ascending=False).head(15)"
   ]
  },
  {
   "cell_type": "code",
   "execution_count": null,
   "metadata": {},
   "outputs": [],
   "source": []
  },
  {
   "cell_type": "code",
   "execution_count": null,
   "metadata": {},
   "outputs": [],
   "source": []
  }
 ],
 "metadata": {
  "kernelspec": {
   "display_name": "Python 3",
   "language": "python",
   "name": "python3"
  },
  "language_info": {
   "codemirror_mode": {
    "name": "ipython",
    "version": 3
   },
   "file_extension": ".py",
   "mimetype": "text/x-python",
   "name": "python",
   "nbconvert_exporter": "python",
   "pygments_lexer": "ipython3",
   "version": "3.7.6"
  }
 },
 "nbformat": 4,
 "nbformat_minor": 4
}
