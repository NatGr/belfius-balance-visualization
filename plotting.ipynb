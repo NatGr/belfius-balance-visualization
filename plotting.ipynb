{
 "cells": [
  {
   "cell_type": "markdown",
   "metadata": {},
   "source": [
    "# Juyter notebook Plotting extracts from a belfius bank account\n",
    "\n",
    "## Data preparation:\n",
    "Follow the procedure detailled [here](https://www.belfius.be/webapps/fr/selfcare/belfius/comptes/solde-historique/Comment-exporter-mon-historique-vers-un-fichier-CSV-(Excel)-en-Belfius-Direct-Net-) to download the extracts as csv files and put them in a folder named \"Data\".  \n",
    "\n",
    "## Dependencies\n",
    "- jupyter notebook\n",
    "- pandas\n",
    "- plotly and cufflinks-py (plotliy won't work out of the box with [jupyter lab](https://medium.com/@hicraigchen/plotly-with-pandas-via-cufflinks-in-jupyter-lab-issues-50fcf1a89a1c), it should be fine with jupyter notebook\n",
    "\n",
    "## Objectives\n",
    "- Show an interactive plot of the balance in the account\n",
    "- Show the main account we interact with and how much we gave/recieved from them over the years"
   ]
  },
  {
   "cell_type": "markdown",
   "metadata": {},
   "source": [
    "## Data Loading and cleaning"
   ]
  },
  {
   "cell_type": "code",
   "execution_count": null,
   "metadata": {
    "execution": {
     "iopub.execute_input": "2020-04-24T10:32:29.138130Z",
     "iopub.status.busy": "2020-04-24T10:32:29.137794Z",
     "iopub.status.idle": "2020-04-24T10:32:29.777243Z",
     "shell.execute_reply": "2020-04-24T10:32:29.775732Z",
     "shell.execute_reply.started": "2020-04-24T10:32:29.138094Z"
    }
   },
   "outputs": [],
   "source": [
    "import pandas as pd\n",
    "import os\n",
    "from datetime import datetime\n",
    "\n",
    "import cufflinks as cf\n",
    "import plotly.offline\n",
    "cf.go_offline()\n",
    "cf.set_config_file(offline=False, world_readable=True)"
   ]
  },
  {
   "cell_type": "code",
   "execution_count": null,
   "metadata": {
    "execution": {
     "iopub.execute_input": "2020-04-24T10:31:27.007131Z",
     "iopub.status.busy": "2020-04-24T10:31:27.006641Z",
     "iopub.status.idle": "2020-04-24T10:31:27.012755Z",
     "shell.execute_reply": "2020-04-24T10:31:27.011324Z",
     "shell.execute_reply.started": "2020-04-24T10:31:27.007088Z"
    }
   },
   "outputs": [],
   "source": [
    "DATA = \"Data\"\n",
    "ENCODING = 'cp1252'"
   ]
  },
  {
   "cell_type": "code",
   "execution_count": null,
   "metadata": {
    "execution": {
     "iopub.execute_input": "2020-04-24T10:31:28.987141Z",
     "iopub.status.busy": "2020-04-24T10:31:28.986697Z",
     "iopub.status.idle": "2020-04-24T10:31:29.062700Z",
     "shell.execute_reply": "2020-04-24T10:31:29.061240Z",
     "shell.execute_reply.started": "2020-04-24T10:31:28.987098Z"
    }
   },
   "outputs": [],
   "source": [
    "data = []\n",
    "for file in os.listdir(DATA):\n",
    "    if not file.endswith(\"csv\"):\n",
    "        continue\n",
    "    with open(os.path.join(DATA, file), \"r\", encoding=ENCODING) as reader:\n",
    "        for i in range(12):  # passing ill-formatted garbage info with balance and balance_date\n",
    "            line = reader.readline()\n",
    "            \n",
    "            # if the balance and balance_date isn't the same in all files, will use the last one silently\n",
    "            if i == 9:  \n",
    "                balance = float(line.split(\";\")[1].split(\" \")[0].replace(\".\", \"\").replace(\",\", \".\"))\n",
    "            if i == 10:\n",
    "                balance_date = datetime.strptime(line.split(\";\")[1][:-1], \"%d/%m/%Y %H:%M:%S\")\n",
    "                \n",
    "        data.append(pd.read_csv(reader, sep=\";\", thousands='.', decimal=','))\n",
    "\n",
    "data = pd.concat(data, axis=0)"
   ]
  },
  {
   "cell_type": "code",
   "execution_count": null,
   "metadata": {
    "execution": {
     "iopub.execute_input": "2020-04-24T10:31:30.142368Z",
     "iopub.status.busy": "2020-04-24T10:31:30.142037Z",
     "iopub.status.idle": "2020-04-24T10:31:30.161451Z",
     "shell.execute_reply": "2020-04-24T10:31:30.160121Z",
     "shell.execute_reply.started": "2020-04-24T10:31:30.142330Z"
    }
   },
   "outputs": [],
   "source": [
    "# Cases that shouldn't happen\n",
    "if data.Devise.nunique() != 1:\n",
    "    print(\"There are several types of Currencies for different transactions, this will fuck up the accounting\")\n",
    "    \n",
    "if data.Compte.nunique() != 1:\n",
    "    print(\"There are several comptes in the transactions, this will fuck up the accounting\")"
   ]
  },
  {
   "cell_type": "code",
   "execution_count": null,
   "metadata": {},
   "outputs": [],
   "source": [
    "# renaming cols\n",
    "col_rename_dict = {\n",
    "    'Compte': \"account\", \n",
    "    'Date de comptabilisation': \"date\", \n",
    "    \"Numéro d'extrait\": \"extract_num\",\n",
    "    'Numéro de transaction': \"transac_number\", \n",
    "    'Compte contrepartie': \"other_account\",\n",
    "    'Nom contrepartie contient': \"other_name\", \n",
    "    'Rue et numéro': \"other_street\", \n",
    "    'Code postal et localité': \"other_locality\",\n",
    "    'Transaction': \"other_transaction\", \n",
    "    'Date valeur': \"value_date\", \n",
    "    'Montant': \"amount\", \n",
    "    'Devise': \"currency\",  \n",
    "    'Code pays': \"country\",\n",
    "    'Communications': \"communication\"\n",
    "}\n",
    "\n",
    "data = data.drop_duplicates()\\\n",
    "    .rename(columns=col_rename_dict)"
   ]
  },
  {
   "cell_type": "code",
   "execution_count": null,
   "metadata": {
    "execution": {
     "iopub.execute_input": "2020-04-24T10:31:47.845408Z",
     "iopub.status.busy": "2020-04-24T10:31:47.845069Z",
     "iopub.status.idle": "2020-04-24T10:31:47.884735Z",
     "shell.execute_reply": "2020-04-24T10:31:47.883127Z",
     "shell.execute_reply.started": "2020-04-24T10:31:47.845370Z"
    }
   },
   "outputs": [],
   "source": [
    "# transactions where there are no associated account but whose meaning we can mine from other_transaction\n",
    "index_no_other_name = data.other_name.isna()\n",
    "\n",
    "index_payment_card = index_no_other_name & data.other_transaction.str.contains(\"PAIEMENT MAESTRO\")\n",
    "data.loc[index_payment_card, \"other_name\"] = \"card payment\"\n",
    "\n",
    "index_cash_deposit = index_no_other_name & data.other_transaction.str.contains(\"DEPOT ESPECES AVEC CARTE\")\n",
    "data.loc[index_cash_deposit, \"other_name\"] = \"cash deposit\"\n",
    "\n",
    "index_postal_fees = index_no_other_name & (data.other_transaction.str.contains(\"FRAIS D'EXPEDITION DE VOS AVIS BANCAIRES\") |\n",
    "                                           data.other_transaction.str.contains(\"DROIT DE TIMBRE\"))\n",
    "data.loc[index_postal_fees, \"other_name\"] = \"postal fees\""
   ]
  },
  {
   "cell_type": "code",
   "execution_count": null,
   "metadata": {
    "execution": {
     "iopub.execute_input": "2020-04-24T10:31:31.093747Z",
     "iopub.status.busy": "2020-04-24T10:31:31.092957Z",
     "iopub.status.idle": "2020-04-24T10:31:31.179816Z",
     "shell.execute_reply": "2020-04-24T10:31:31.174429Z",
     "shell.execute_reply.started": "2020-04-24T10:31:31.093677Z"
    }
   },
   "outputs": [],
   "source": [
    "data = data.assign(\n",
    "        date=lambda x: pd.to_datetime(x.date, format=\"%d/%m/%Y\"),\n",
    "        value_date=lambda x: pd.to_datetime(x.value_date, format=\"%d/%m/%Y\"),\n",
    "        plot_text=lambda x: x.apply(lambda y: str(abs(y[\"amount\"])) + (\"€ from \" if y[\"amount\"] > 0 else \"€ to \") + \\\n",
    "                (y[\"other_name\"] if isinstance(y[\"other_name\"], str) else \"?\"), axis=1))\\\n",
    "    .sort_values(by=\"date\", ascending=False)\\\n",
    "    .assign(balance=lambda x: balance - x.amount.shift(1, fill_value=0).cumsum())  # the solde after a transaction"
   ]
  },
  {
   "cell_type": "markdown",
   "metadata": {
    "execution": {
     "iopub.execute_input": "2020-04-19T18:15:33.480078Z",
     "iopub.status.busy": "2020-04-19T18:15:33.479745Z",
     "iopub.status.idle": "2020-04-19T18:15:33.486328Z",
     "shell.execute_reply": "2020-04-19T18:15:33.484368Z",
     "shell.execute_reply.started": "2020-04-19T18:15:33.480043Z"
    }
   },
   "source": [
    "## Interactive plot of the amount of money in the account"
   ]
  },
  {
   "cell_type": "code",
   "execution_count": null,
   "metadata": {
    "execution": {
     "iopub.execute_input": "2020-04-24T10:36:36.527817Z",
     "iopub.status.busy": "2020-04-24T10:36:36.527480Z",
     "iopub.status.idle": "2020-04-24T10:36:36.762640Z",
     "shell.execute_reply": "2020-04-24T10:36:36.761866Z",
     "shell.execute_reply.started": "2020-04-24T10:36:36.527781Z"
    }
   },
   "outputs": [],
   "source": [
    "data.iplot(kind=\"scatter\", x=\"date\", y=\"balance\", xTitle=\"Date\", \n",
    "           yTitle=\"Account Balance (€)\", title=\"Account balance as times passes\",\n",
    "           mode=\"lines+markers\", size=5, theme=\"solar\", text=\"plot_text\")"
   ]
  },
  {
   "cell_type": "markdown",
   "metadata": {},
   "source": [
    "## Diverse Account statistics"
   ]
  },
  {
   "cell_type": "code",
   "execution_count": null,
   "metadata": {
    "execution": {
     "iopub.execute_input": "2020-04-24T10:31:48.590208Z",
     "iopub.status.busy": "2020-04-24T10:31:48.589723Z",
     "iopub.status.idle": "2020-04-24T10:31:48.618772Z",
     "shell.execute_reply": "2020-04-24T10:31:48.616462Z",
     "shell.execute_reply.started": "2020-04-24T10:31:48.590145Z"
    }
   },
   "outputs": [],
   "source": [
    "per_other_stats = data.groupby(\"other_name\").amount.agg([\"count\", \"sum\"])"
   ]
  },
  {
   "cell_type": "markdown",
   "metadata": {},
   "source": [
    "### The 15 entities we gave most money to"
   ]
  },
  {
   "cell_type": "code",
   "execution_count": null,
   "metadata": {
    "execution": {
     "iopub.execute_input": "2020-04-24T10:31:49.529531Z",
     "iopub.status.busy": "2020-04-24T10:31:49.529122Z",
     "iopub.status.idle": "2020-04-24T10:31:49.571651Z",
     "shell.execute_reply": "2020-04-24T10:31:49.569351Z",
     "shell.execute_reply.started": "2020-04-24T10:31:49.529491Z"
    }
   },
   "outputs": [],
   "source": [
    "per_other_stats.sort_values(\"sum\").head(15)"
   ]
  },
  {
   "cell_type": "markdown",
   "metadata": {},
   "source": [
    "### The 15 entities that gave us most money"
   ]
  },
  {
   "cell_type": "code",
   "execution_count": null,
   "metadata": {
    "execution": {
     "iopub.execute_input": "2020-04-24T10:31:50.341661Z",
     "iopub.status.busy": "2020-04-24T10:31:50.341102Z",
     "iopub.status.idle": "2020-04-24T10:31:50.363448Z",
     "shell.execute_reply": "2020-04-24T10:31:50.359983Z",
     "shell.execute_reply.started": "2020-04-24T10:31:50.341598Z"
    }
   },
   "outputs": [],
   "source": [
    "per_other_stats.sort_values(\"sum\", ascending=False).head(15)"
   ]
  },
  {
   "cell_type": "markdown",
   "metadata": {},
   "source": [
    "### The 15 entities we had the most interactions with"
   ]
  },
  {
   "cell_type": "code",
   "execution_count": null,
   "metadata": {
    "execution": {
     "iopub.execute_input": "2020-04-24T10:31:51.090253Z",
     "iopub.status.busy": "2020-04-24T10:31:51.089874Z",
     "iopub.status.idle": "2020-04-24T10:31:51.106131Z",
     "shell.execute_reply": "2020-04-24T10:31:51.104942Z",
     "shell.execute_reply.started": "2020-04-24T10:31:51.090216Z"
    }
   },
   "outputs": [],
   "source": [
    "per_other_stats.sort_values(\"count\", ascending=False).head(15)"
   ]
  },
  {
   "cell_type": "code",
   "execution_count": null,
   "metadata": {},
   "outputs": [],
   "source": []
  },
  {
   "cell_type": "code",
   "execution_count": null,
   "metadata": {},
   "outputs": [],
   "source": []
  }
 ],
 "metadata": {
  "kernelspec": {
   "display_name": "Python 3",
   "language": "python",
   "name": "python3"
  },
  "language_info": {
   "codemirror_mode": {
    "name": "ipython",
    "version": 3
   },
   "file_extension": ".py",
   "mimetype": "text/x-python",
   "name": "python",
   "nbconvert_exporter": "python",
   "pygments_lexer": "ipython3",
   "version": "3.7.6"
  }
 },
 "nbformat": 4,
 "nbformat_minor": 4
}
